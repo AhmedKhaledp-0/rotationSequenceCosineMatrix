{
 "cells": [
  {
   "cell_type": "markdown",
   "id": "b0ce7ef1",
   "metadata": {},
   "source": [
    "# Rotation Matrices and Direction Cosine Matrices\n",
    "\n",
    "This notebook explores the mathematical foundations of rotation matrices and direction cosine matrices (DCMs) in three-dimensional space. We'll use both numerical calculations with NumPy and symbolic mathematics with SymPy to understand these important concepts in spatial transformations.\n",
    "\n",
    "## Key Topics\n",
    "\n",
    "- Elementary rotation matrices for rotations about principal axes\n",
    "- Composition of rotations using sequential rotation sequences\n",
    "- Symbolic representation of rotation matrices with LaTeX\n",
    "- Euler angles and their relation to DCMs"
   ]
  },
  {
   "cell_type": "markdown",
   "id": "7b5976dd",
   "metadata": {},
   "source": [
    "## Setup and Imports\n",
    "\n",
    "Let's start by importing the libraries we'll need:"
   ]
  },
  {
   "cell_type": "code",
   "execution_count": 1,
   "id": "6b8655af",
   "metadata": {},
   "outputs": [],
   "source": [
    "import numpy as np\n",
    "import sympy as sp\n",
    "from IPython.display import Math, display\n",
    "\n",
    "sp.init_printing(use_latex=True)"
   ]
  },
  {
   "cell_type": "markdown",
   "id": "cdc47df7",
   "metadata": {},
   "source": [
    "## Elementary Rotation Matrices\n",
    "\n",
    "Rotation matrices represent rotations in 3D space. The three elementary rotation matrices represent rotations around the principal axes:\n",
    "\n",
    "### Rotation about the x-axis (Roll, axis=1)\n",
    "\n",
    "$$R_x(\\phi) = \\begin{bmatrix} \n",
    "1 & 0 & 0 \\\\\n",
    "0 & \\cos\\phi & -\\sin\\phi \\\\\n",
    "0 & \\sin\\phi & \\cos\\phi\n",
    "\\end{bmatrix}$$\n",
    "\n",
    "### Rotation about the y-axis (Pitch, axis=2)\n",
    "\n",
    "$$R_y(\\theta) = \\begin{bmatrix} \n",
    "\\cos\\theta & 0 & \\sin\\theta \\\\\n",
    "0 & 1 & 0 \\\\\n",
    "-\\sin\\theta & 0 & \\cos\\theta\n",
    "\\end{bmatrix}$$\n",
    "\n",
    "### Rotation about the z-axis (Yaw, axis=3)\n",
    "\n",
    "$$R_z(\\psi) = \\begin{bmatrix} \n",
    "\\cos\\psi & -\\sin\\psi & 0 \\\\\n",
    "\\sin\\psi & \\cos\\psi & 0 \\\\\n",
    "0 & 0 & 1\n",
    "\\end{bmatrix}$$"
   ]
  },
  {
   "cell_type": "code",
   "execution_count": 2,
   "id": "59d70a47",
   "metadata": {},
   "outputs": [],
   "source": [
    "def create_rotation_matrix(axis, angle):\n",
    "    c = np.cos(angle)\n",
    "    s = np.sin(angle)\n",
    "    if axis == 1:  # X-axis rotation\n",
    "        return np.array([\n",
    "            [1, 0, 0],\n",
    "            [0, c, -s],\n",
    "            [0, s, c]\n",
    "        ])\n",
    "    elif axis == 2:  # Y-axis rotation\n",
    "        return np.array([\n",
    "            [c, 0, s],\n",
    "            [0, 1, 0],\n",
    "            [-s, 0, c]\n",
    "        ])\n",
    "    elif axis == 3:  # Z-axis rotation\n",
    "        return np.array([\n",
    "            [c, -s, 0],\n",
    "            [s, c, 0],\n",
    "            [0, 0, 1]\n",
    "        ])\n",
    "    else:\n",
    "        raise ValueError(\"Axis must be 1, 2, or 3\")"
   ]
  },
  {
   "cell_type": "markdown",
   "id": "c3a26447",
   "metadata": {},
   "source": [
    "### Examples of Rotation Matrices\n",
    "\n",
    "Let's calculate some examples of rotation matrices for different angles:"
   ]
  },
  {
   "cell_type": "markdown",
   "id": "837d6ceb",
   "metadata": {},
   "source": [
    "## Symbolic Representation of Rotation Matrices\n",
    "\n",
    "We can use SymPy to derive symbolic expressions for rotation matrices and direction cosine matrices (DCMs)."
   ]
  },
  {
   "cell_type": "code",
   "execution_count": 3,
   "id": "c83b4911",
   "metadata": {},
   "outputs": [],
   "source": [
    "def get_symbolic_dcm(sequence):\n",
    "    phi, theta, psi = sp.symbols('\\\\phi \\\\theta \\\\psi')\n",
    "    angles = [phi, theta, psi][:len(sequence)]\n",
    "    def create_symbolic_rotation(axis, angle):\n",
    "        c = sp.cos(angle)\n",
    "        s = sp.sin(angle)\n",
    "        if axis == 1:\n",
    "            return sp.Matrix([\n",
    "                [1, 0, 0],\n",
    "                [0, c, -s],\n",
    "                [0, s, c]\n",
    "            ])\n",
    "        elif axis == 2:\n",
    "            return sp.Matrix([\n",
    "                [c, 0, s],\n",
    "                [0, 1, 0],\n",
    "                [-s, 0, c]\n",
    "            ])\n",
    "        elif axis == 3:\n",
    "            return sp.Matrix([\n",
    "                [c, -s, 0],\n",
    "                [s, c, 0],\n",
    "                [0, 0, 1]\n",
    "            ])\n",
    "    dcm = sp.eye(3)\n",
    "    for axis, angle in zip(sequence, angles):\n",
    "        rot_matrix = create_symbolic_rotation(axis, angle)\n",
    "        dcm = dcm * rot_matrix\n",
    "    return dcm"
   ]
  },
  {
   "cell_type": "markdown",
   "id": "0dceb8c1",
   "metadata": {},
   "source": [
    "### Common Rotation Sequences\n",
    "\n",
    "Let's examine some common rotation sequences and their symbolic representations:\n",
    "\n",
    "1. **Aircraft Euler Angles (3-2-1 sequence)**: Yaw (ψ) → Pitch (θ) → Roll (φ)\n",
    "2. **Classical Euler Angles (3-1-3 sequence)**: Precession (ψ) → Nutation (θ) → Spin (φ)"
   ]
  },
  {
   "cell_type": "code",
   "execution_count": 4,
   "id": "8fc3d083",
   "metadata": {},
   "outputs": [],
   "source": [
    "def display_symbolic_dcm(sequence, description):\n",
    "    \"\"\"Display symbolic DCM with LaTeX formatting\"\"\"\n",
    "    dcm = get_symbolic_dcm(sequence)\n",
    "    \n",
    "    axis_names = {1: \"X\", 2: \"Y\", 3: \"Z\"}\n",
    "    rotation_sequence = '-'.join([axis_names[axis] for axis in sequence])\n",
    "    \n",
    "    print(f\"{description} (Sequence: {rotation_sequence})\")\n",
    "    \n",
    "    display(Math(sp.latex(dcm)))"
   ]
  },
  {
   "cell_type": "code",
   "execution_count": 5,
   "id": "9542c0a5",
   "metadata": {},
   "outputs": [
    {
     "name": "stdout",
     "output_type": "stream",
     "text": [
      "Aircraft Euler Angles (Yaw-Pitch-Roll) (Sequence: Z-Y-X)\n"
     ]
    },
    {
     "data": {
      "text/latex": [
       "$\\displaystyle \\left[\\begin{matrix}\\cos{\\left(\\phi \\right)} \\cos{\\left(\\theta \\right)} & - \\sin{\\left(\\phi \\right)} \\cos{\\left(\\psi \\right)} + \\sin{\\left(\\psi \\right)} \\sin{\\left(\\theta \\right)} \\cos{\\left(\\phi \\right)} & \\sin{\\left(\\phi \\right)} \\sin{\\left(\\psi \\right)} + \\sin{\\left(\\theta \\right)} \\cos{\\left(\\phi \\right)} \\cos{\\left(\\psi \\right)}\\\\\\sin{\\left(\\phi \\right)} \\cos{\\left(\\theta \\right)} & \\sin{\\left(\\phi \\right)} \\sin{\\left(\\psi \\right)} \\sin{\\left(\\theta \\right)} + \\cos{\\left(\\phi \\right)} \\cos{\\left(\\psi \\right)} & \\sin{\\left(\\phi \\right)} \\sin{\\left(\\theta \\right)} \\cos{\\left(\\psi \\right)} - \\sin{\\left(\\psi \\right)} \\cos{\\left(\\phi \\right)}\\\\- \\sin{\\left(\\theta \\right)} & \\sin{\\left(\\psi \\right)} \\cos{\\left(\\theta \\right)} & \\cos{\\left(\\psi \\right)} \\cos{\\left(\\theta \\right)}\\end{matrix}\\right]$"
      ],
      "text/plain": [
       "<IPython.core.display.Math object>"
      ]
     },
     "metadata": {},
     "output_type": "display_data"
    }
   ],
   "source": [
    "aircraft_dcm = display_symbolic_dcm([3, 2, 1], \"Aircraft Euler Angles (Yaw-Pitch-Roll)\")"
   ]
  },
  {
   "cell_type": "code",
   "execution_count": 6,
   "id": "06a2628a",
   "metadata": {},
   "outputs": [
    {
     "name": "stdout",
     "output_type": "stream",
     "text": [
      "Classical Euler Angles (Precession-Nutation-Spin) (Sequence: Z-X-Z)\n"
     ]
    },
    {
     "data": {
      "text/latex": [
       "$\\displaystyle \\left[\\begin{matrix}- \\sin{\\left(\\phi \\right)} \\sin{\\left(\\psi \\right)} \\cos{\\left(\\theta \\right)} + \\cos{\\left(\\phi \\right)} \\cos{\\left(\\psi \\right)} & - \\sin{\\left(\\phi \\right)} \\cos{\\left(\\psi \\right)} \\cos{\\left(\\theta \\right)} - \\sin{\\left(\\psi \\right)} \\cos{\\left(\\phi \\right)} & \\sin{\\left(\\phi \\right)} \\sin{\\left(\\theta \\right)}\\\\\\sin{\\left(\\phi \\right)} \\cos{\\left(\\psi \\right)} + \\sin{\\left(\\psi \\right)} \\cos{\\left(\\phi \\right)} \\cos{\\left(\\theta \\right)} & - \\sin{\\left(\\phi \\right)} \\sin{\\left(\\psi \\right)} + \\cos{\\left(\\phi \\right)} \\cos{\\left(\\psi \\right)} \\cos{\\left(\\theta \\right)} & - \\sin{\\left(\\theta \\right)} \\cos{\\left(\\phi \\right)}\\\\\\sin{\\left(\\psi \\right)} \\sin{\\left(\\theta \\right)} & \\sin{\\left(\\theta \\right)} \\cos{\\left(\\psi \\right)} & \\cos{\\left(\\theta \\right)}\\end{matrix}\\right]$"
      ],
      "text/plain": [
       "<IPython.core.display.Math object>"
      ]
     },
     "metadata": {},
     "output_type": "display_data"
    }
   ],
   "source": [
    "# Classical Euler Angles (3-1-3)\n",
    "euler_313_dcm = display_symbolic_dcm([3, 1, 3], \"Classical Euler Angles (Precession-Nutation-Spin)\")"
   ]
  },
  {
   "cell_type": "markdown",
   "id": "50233dff",
   "metadata": {},
   "source": [
    "## Numerical Calculations of Direction Cosine Matrices\n",
    "\n",
    "Now let's create a function to calculate DCMs numerically for any rotation sequence:"
   ]
  },
  {
   "cell_type": "code",
   "execution_count": 7,
   "id": "2c984100",
   "metadata": {},
   "outputs": [],
   "source": [
    "def euler_to_dcm(sequence, angles):\n",
    "    if len(sequence) != len(angles):\n",
    "        raise ValueError(\"Number of axes must match number of angles\")\n",
    "    \n",
    "    dcm = np.eye(3)\n",
    "    \n",
    "    for axis, angle in zip(sequence, angles):\n",
    "        rotation_matrix = create_rotation_matrix(axis, angle)\n",
    "        dcm = np.dot(dcm, rotation_matrix)\n",
    "    \n",
    "    return dcm"
   ]
  },
  {
   "cell_type": "markdown",
   "id": "0b5d539c",
   "metadata": {},
   "source": [
    "### Example: Computing DCMs for Aircraft Motion\n",
    "\n",
    "Let's compute a DCM for an aircraft with specific Euler angles (yaw, pitch, roll):"
   ]
  },
  {
   "cell_type": "code",
   "execution_count": 8,
   "id": "5a38a0de",
   "metadata": {},
   "outputs": [],
   "source": [
    "def print_matrix(matrix, precision=6):\n",
    "\n",
    "    rows, cols = matrix.shape\n",
    "    \n",
    "    for i in range(rows):\n",
    "        print(\"  [\", end=\"\")\n",
    "        for j in range(cols):\n",
    "            value = matrix[i, j]\n",
    "            formatted_value = f\"{value:{precision+4}.{precision}f}\"\n",
    "            print(f\"{formatted_value}\", end=\"\")\n",
    "            if j < cols - 1:\n",
    "                print(\", \", end=\"\")\n",
    "        print(\"]\" + (\"\" if i < rows - 1 else \"\"))\n",
    "    "
   ]
  },
  {
   "cell_type": "code",
   "execution_count": 9,
   "id": "b4da0b36",
   "metadata": {},
   "outputs": [
    {
     "name": "stdout",
     "output_type": "stream",
     "text": [
      "Aircraft Euler Angles:\n",
      "Yaw (ψ): 30°\n",
      "Pitch (θ): 15°\n",
      "Roll (φ): 10°\n",
      "\n",
      "Direction Cosine Matrix (DCM):\n",
      "  [  0.836516,  -0.453482,   0.307563]\n",
      "  [  0.482963,   0.875340,  -0.022940]\n",
      "  [ -0.258819,   0.167731,   0.951251]\n"
     ]
    }
   ],
   "source": [
    "# Example: Aircraft with yaw=30°, pitch=15°, roll=10°\n",
    "sequence = [3, 2, 1]  # Yaw-Pitch-Roll (Z-Y-X)\n",
    "angles_deg = [30, 15, 10]  \n",
    "angles_rad = [np.radians(angle) for angle in angles_deg]\n",
    "\n",
    "print(\"Aircraft Euler Angles:\")\n",
    "print(f\"Yaw (ψ): {angles_deg[0]}°\")\n",
    "print(f\"Pitch (θ): {angles_deg[1]}°\")\n",
    "print(f\"Roll (φ): {angles_deg[2]}°\\n\")\n",
    "\n",
    "dcm = euler_to_dcm(sequence, angles_rad)\n",
    "print(\"Direction Cosine Matrix (DCM):\")\n",
    "print_matrix(dcm)"
   ]
  }
 ],
 "metadata": {
  "kernelspec": {
   "display_name": ".venv",
   "language": "python",
   "name": "python3"
  },
  "language_info": {
   "codemirror_mode": {
    "name": "ipython",
    "version": 3
   },
   "file_extension": ".py",
   "mimetype": "text/x-python",
   "name": "python",
   "nbconvert_exporter": "python",
   "pygments_lexer": "ipython3",
   "version": "3.13.2"
  }
 },
 "nbformat": 4,
 "nbformat_minor": 5
}
